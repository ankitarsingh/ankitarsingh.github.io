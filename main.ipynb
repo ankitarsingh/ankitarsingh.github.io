{
 "cells": [
  {
   "cell_type": "markdown",
   "id": "07b04e72",
   "metadata": {},
   "source": [
    "Analysis of Depression Dataset"
   ]
  },
  {
   "cell_type": "code",
   "execution_count": 1,
   "id": "2b51ffe5",
   "metadata": {},
   "outputs": [],
   "source": [
    "import numpy as np\n",
    "import matplotlib.pyplot as plt\n",
    "import pandas as pd\n",
    "import ipywidgets\n",
    "from ipywidgets import interactive"
   ]
  },
  {
   "cell_type": "markdown",
   "id": "4c6e12db",
   "metadata": {},
   "source": [
    "Reading the csvs required"
   ]
  },
  {
   "cell_type": "code",
   "execution_count": 2,
   "id": "7623c6ad",
   "metadata": {},
   "outputs": [],
   "source": [
    "def read_file(file_name):\n",
    "    return pd.read_csv(file_name)"
   ]
  },
  {
   "cell_type": "markdown",
   "id": "492583a6",
   "metadata": {},
   "source": [
    "Analysis 1: Creating a scatter plot to replicate the article's visualization"
   ]
  },
  {
   "cell_type": "code",
   "execution_count": 3,
   "id": "e3478bd4",
   "metadata": {},
   "outputs": [],
   "source": [
    "# Interactive plot\n",
    "def plot_scatter(continent):\n",
    "    df1 = read_file(\"prevalence_male_females.csv\")\n",
    "    df_continents = read_file(\"continents2.csv\")\n",
    "    df1.dropna()\n",
    "    # Renaming the columns\n",
    "    df1 = df1.rename(columns={'Prevalence - Depressive disorders - Sex: Male - Age: Age-standardized (Percent)':'Male',\n",
    "                              'Prevalence - Depressive disorders - Sex: Female - Age: Age-standardized (Percent)':'Female'})\n",
    "    # Filtering the data for one year as mentioned in the article\n",
    "    df_2017 = df1[df1[\"Year\"] == 2017]\n",
    "\n",
    "    #Merging df_2017 with df_continents for continents correspinding to country code\n",
    "    result = pd.merge(df_2017, df_continents, how=\"left\")\n",
    "    result['region'] = result['region'].replace(np.nan, 'Others')\n",
    "    if continent == 'All':\n",
    "        result.plot(kind='scatter', x='Female', y='Male', ylim=(0, 8), xlim=(0, 8),\n",
    "                    figsize=(20, 10))  # scatter plot\n",
    "    else:\n",
    "        df_temp = result[result['region'] == continent]\n",
    "        df_temp.plot(kind='scatter', x='Female', y='Male', ylim=(0, 8), xlim=(0, 8),\n",
    "                     figsize=(20, 10))  # scatter plot\n",
    "    plt.xlabel('Prevelance in Female')\n",
    "    plt.ylabel('Prevelance in Male')\n",
    "    plt.title('Prevalence in gender')\n",
    "    plt.show()"
   ]
  },
  {
   "cell_type": "code",
   "execution_count": 4,
   "id": "d0a8d706",
   "metadata": {
    "scrolled": false
   },
   "outputs": [
    {
     "data": {
      "application/vnd.jupyter.widget-view+json": {
       "model_id": "2382f7b4f09c4816a59f9f3ea27954bb",
       "version_major": 2,
       "version_minor": 0
      },
      "text/plain": [
       "interactive(children=(Dropdown(description='Continent', options=('All', 'Asia', 'Others', 'Europe', 'Africa', …"
      ]
     },
     "metadata": {},
     "output_type": "display_data"
    }
   ],
   "source": [
    "# Creating an interactive plot using 'interactive' function with all the necessary dropdowns\n",
    "plot1 = interactive(plot_scatter,\n",
    "                    continent=ipywidgets.Dropdown(\n",
    "                        value='All',\n",
    "                        options=['All', 'Asia', 'Others', 'Europe', 'Africa', 'Oceania', 'Americas'],\n",
    "                        description='Continent'\n",
    "                    ))\n",
    "plot1"
   ]
  },
  {
   "cell_type": "markdown",
   "id": "ef07c73d",
   "metadata": {},
   "source": [
    "Reading another data to cross check the above conclusion"
   ]
  },
  {
   "cell_type": "code",
   "execution_count": 6,
   "id": "efc11f76",
   "metadata": {},
   "outputs": [
    {
     "name": "stdout",
     "output_type": "stream",
     "text": [
      "sex    Female      Male\n",
      "val  0.907279  0.546125\n"
     ]
    }
   ],
   "source": [
    "df2 = pd.read_csv(\"GHD_male_female.csv\")\n",
    "df2.dropna()\n",
    "# Creates a pivot table dataframe\n",
    "table = pd.pivot_table(df2, values ='val', columns =['sex'], aggfunc = np.sum) \n",
    "print(table)"
   ]
  },
  {
   "cell_type": "code",
   "execution_count": null,
   "id": "82963843",
   "metadata": {},
   "outputs": [],
   "source": [
    "Filtering the data for required years"
   ]
  },
  {
   "cell_type": "code",
   "execution_count": 10,
   "id": "9917058d",
   "metadata": {
    "scrolled": true
   },
   "outputs": [
    {
     "data": {
      "text/plain": [
       "sex\n",
       "Female    0.030603\n",
       "Male      0.018774\n",
       "Name: val, dtype: float64"
      ]
     },
     "execution_count": 10,
     "metadata": {},
     "output_type": "execute_result"
    }
   ],
   "source": [
    "df2_2017 = df2[df2[\"year\"].isin([2017,2018,2019])]\n",
    "val1 = df2_2017.groupby(['sex'])['val'].mean()\n",
    "val1"
   ]
  },
  {
   "cell_type": "code",
   "execution_count": 11,
   "id": "b8bd7ebc",
   "metadata": {},
   "outputs": [
    {
     "data": {
      "text/plain": [
       "array(['Global'], dtype=object)"
      ]
     },
     "execution_count": 11,
     "metadata": {},
     "output_type": "execute_result"
    }
   ],
   "source": [
    "df2['location'].unique()"
   ]
  },
  {
   "cell_type": "markdown",
   "id": "7e0f5ace",
   "metadata": {},
   "source": [
    "Since, the only location is global, we cannot analyse country wise "
   ]
  },
  {
   "cell_type": "code",
   "execution_count": null,
   "id": "727ce2fe",
   "metadata": {},
   "outputs": [],
   "source": []
  }
 ],
 "metadata": {
  "kernelspec": {
   "display_name": "Python 3",
   "language": "python",
   "name": "python3"
  },
  "language_info": {
   "codemirror_mode": {
    "name": "ipython",
    "version": 3
   },
   "file_extension": ".py",
   "mimetype": "text/x-python",
   "name": "python",
   "nbconvert_exporter": "python",
   "pygments_lexer": "ipython3",
   "version": "3.8.8"
  }
 },
 "nbformat": 4,
 "nbformat_minor": 5
}
